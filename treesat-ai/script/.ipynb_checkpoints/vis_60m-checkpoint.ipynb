{
 "cells": [
  {
   "cell_type": "code",
   "execution_count": 1,
   "id": "aa8a14fa-0283-41fd-8e6f-8a2927b45bcc",
   "metadata": {},
   "outputs": [],
   "source": [
    "\"\"\"\n",
    "reading .geojson\n",
    "explore ways for visualization for smaller, regional, detailed polygon area(60m*60m) analysis\n",
    "\"\"\"\n",
    "import geopandas as gpd \n",
    "import matplotlib.pyplot as plt"
   ]
  },
  {
   "cell_type": "markdown",
   "id": "22d57174-5659-4241-9980-edcecb236aeb",
   "metadata": {},
   "source": [
    "### Columns"
   ]
  },
  {
   "cell_type": "code",
   "execution_count": 2,
   "id": "1dae0c5f-c64c-4f56-a84a-1d6679b7c4d0",
   "metadata": {},
   "outputs": [
    {
     "data": {
      "text/html": [
       "<div>\n",
       "<style scoped>\n",
       "    .dataframe tbody tr th:only-of-type {\n",
       "        vertical-align: middle;\n",
       "    }\n",
       "\n",
       "    .dataframe tbody tr th {\n",
       "        vertical-align: top;\n",
       "    }\n",
       "\n",
       "    .dataframe thead th {\n",
       "        text-align: right;\n",
       "    }\n",
       "</style>\n",
       "<table border=\"1\" class=\"dataframe\">\n",
       "  <thead>\n",
       "    <tr style=\"text-align: right;\">\n",
       "      <th></th>\n",
       "      <th>IMG_ID</th>\n",
       "      <th>ID</th>\n",
       "      <th>BT_DEU</th>\n",
       "      <th>BT_ENG</th>\n",
       "      <th>BT_BOT</th>\n",
       "      <th>BT_GEN</th>\n",
       "      <th>AKL</th>\n",
       "      <th>SOURCE</th>\n",
       "      <th>l0</th>\n",
       "      <th>l1</th>\n",
       "      <th>l2</th>\n",
       "      <th>l3</th>\n",
       "      <th>YEAR</th>\n",
       "      <th>SPLIT</th>\n",
       "      <th>geometry</th>\n",
       "    </tr>\n",
       "  </thead>\n",
       "  <tbody>\n",
       "    <tr>\n",
       "      <th>0</th>\n",
       "      <td>Fagus_sylvatica_7_138225_BI_NLF</td>\n",
       "      <td>138225</td>\n",
       "      <td>Bu</td>\n",
       "      <td>European beech</td>\n",
       "      <td>Fagus sylvatica</td>\n",
       "      <td>Fagus</td>\n",
       "      <td>7</td>\n",
       "      <td>BI_NLF</td>\n",
       "      <td>forest</td>\n",
       "      <td>broadleaf</td>\n",
       "      <td>beech</td>\n",
       "      <td>european beech</td>\n",
       "      <td>2018</td>\n",
       "      <td>train</td>\n",
       "      <td>POLYGON ((579925.759 5756765.863, 579925.759 5...</td>\n",
       "    </tr>\n",
       "    <tr>\n",
       "      <th>1</th>\n",
       "      <td>Fagus_sylvatica_7_138342_BI_NLF</td>\n",
       "      <td>138342</td>\n",
       "      <td>Bu</td>\n",
       "      <td>European beech</td>\n",
       "      <td>Fagus sylvatica</td>\n",
       "      <td>Fagus</td>\n",
       "      <td>7</td>\n",
       "      <td>BI_NLF</td>\n",
       "      <td>forest</td>\n",
       "      <td>broadleaf</td>\n",
       "      <td>beech</td>\n",
       "      <td>european beech</td>\n",
       "      <td>2018</td>\n",
       "      <td>train</td>\n",
       "      <td>POLYGON ((579825.8 5756865.824, 579825.8 57568...</td>\n",
       "    </tr>\n",
       "    <tr>\n",
       "      <th>2</th>\n",
       "      <td>Fagus_sylvatica_7_138464_BI_NLF</td>\n",
       "      <td>138464</td>\n",
       "      <td>Bu</td>\n",
       "      <td>European beech</td>\n",
       "      <td>Fagus sylvatica</td>\n",
       "      <td>Fagus</td>\n",
       "      <td>7</td>\n",
       "      <td>BI_NLF</td>\n",
       "      <td>forest</td>\n",
       "      <td>broadleaf</td>\n",
       "      <td>beech</td>\n",
       "      <td>european beech</td>\n",
       "      <td>2018</td>\n",
       "      <td>test</td>\n",
       "      <td>POLYGON ((579725.841 5756965.784, 579725.841 5...</td>\n",
       "    </tr>\n",
       "    <tr>\n",
       "      <th>3</th>\n",
       "      <td>Picea_abies_4_138466_BI_NLF</td>\n",
       "      <td>138466</td>\n",
       "      <td>Fi</td>\n",
       "      <td>Spruce</td>\n",
       "      <td>Picea abies</td>\n",
       "      <td>Picea</td>\n",
       "      <td>4</td>\n",
       "      <td>BI_NLF</td>\n",
       "      <td>forest</td>\n",
       "      <td>needleleaf</td>\n",
       "      <td>spruce</td>\n",
       "      <td>norway spruce</td>\n",
       "      <td>2018</td>\n",
       "      <td>train</td>\n",
       "      <td>POLYGON ((579925.761 5756965.783, 579925.761 5...</td>\n",
       "    </tr>\n",
       "    <tr>\n",
       "      <th>4</th>\n",
       "      <td>Acer_pseudoplatanus_7_138484_BI_NLF</td>\n",
       "      <td>138484</td>\n",
       "      <td>BAh</td>\n",
       "      <td>Sycamore maple</td>\n",
       "      <td>Acer pseudoplatanus</td>\n",
       "      <td>Acer</td>\n",
       "      <td>7</td>\n",
       "      <td>BI_NLF</td>\n",
       "      <td>forest</td>\n",
       "      <td>broadleaf</td>\n",
       "      <td>long-lived deciduous</td>\n",
       "      <td>sycamore maple</td>\n",
       "      <td>2018</td>\n",
       "      <td>train</td>\n",
       "      <td>POLYGON ((599517.913 5756965.604, 599517.913 5...</td>\n",
       "    </tr>\n",
       "  </tbody>\n",
       "</table>\n",
       "</div>"
      ],
      "text/plain": [
       "                                IMG_ID      ID BT_DEU          BT_ENG  \\\n",
       "0      Fagus_sylvatica_7_138225_BI_NLF  138225     Bu  European beech   \n",
       "1      Fagus_sylvatica_7_138342_BI_NLF  138342     Bu  European beech   \n",
       "2      Fagus_sylvatica_7_138464_BI_NLF  138464     Bu  European beech   \n",
       "3          Picea_abies_4_138466_BI_NLF  138466     Fi          Spruce   \n",
       "4  Acer_pseudoplatanus_7_138484_BI_NLF  138484    BAh  Sycamore maple   \n",
       "\n",
       "                BT_BOT BT_GEN AKL  SOURCE      l0          l1  \\\n",
       "0      Fagus sylvatica  Fagus   7  BI_NLF  forest   broadleaf   \n",
       "1      Fagus sylvatica  Fagus   7  BI_NLF  forest   broadleaf   \n",
       "2      Fagus sylvatica  Fagus   7  BI_NLF  forest   broadleaf   \n",
       "3          Picea abies  Picea   4  BI_NLF  forest  needleleaf   \n",
       "4  Acer pseudoplatanus   Acer   7  BI_NLF  forest   broadleaf   \n",
       "\n",
       "                     l2              l3  YEAR  SPLIT  \\\n",
       "0                 beech  european beech  2018  train   \n",
       "1                 beech  european beech  2018  train   \n",
       "2                 beech  european beech  2018   test   \n",
       "3                spruce   norway spruce  2018  train   \n",
       "4  long-lived deciduous  sycamore maple  2018  train   \n",
       "\n",
       "                                            geometry  \n",
       "0  POLYGON ((579925.759 5756765.863, 579925.759 5...  \n",
       "1  POLYGON ((579825.8 5756865.824, 579825.8 57568...  \n",
       "2  POLYGON ((579725.841 5756965.784, 579725.841 5...  \n",
       "3  POLYGON ((579925.761 5756965.783, 579925.761 5...  \n",
       "4  POLYGON ((599517.913 5756965.604, 599517.913 5...  "
      ]
     },
     "execution_count": 2,
     "metadata": {},
     "output_type": "execute_result"
    }
   ],
   "source": [
    "\"\"\"\n",
    "loading file using gpd\n",
    "\"\"\"\n",
    "geojson_file = \"../src/geojson/bb_60m.GeoJSON\"  # 替换为你的文件路径\n",
    "data = gpd.read_file(geojson_file)\n",
    "data.head()"
   ]
  },
  {
   "cell_type": "code",
   "execution_count": 3,
   "id": "0a848388-42cd-4df4-ba46-63bb0c14048f",
   "metadata": {},
   "outputs": [
    {
     "data": {
      "text/plain": [
       "<Projected CRS: EPSG:25832>\n",
       "Name: ETRS89 / UTM zone 32N\n",
       "Axis Info [cartesian]:\n",
       "- E[east]: Easting (metre)\n",
       "- N[north]: Northing (metre)\n",
       "Area of Use:\n",
       "- name: Europe between 6°E and 12°E: Austria; Belgium; Denmark - onshore and offshore; Germany - onshore and offshore; Norway including - onshore and offshore; Spain - offshore.\n",
       "- bounds: (6.0, 38.76, 12.01, 84.33)\n",
       "Coordinate Operation:\n",
       "- name: UTM zone 32N\n",
       "- method: Transverse Mercator\n",
       "Datum: European Terrestrial Reference System 1989 ensemble\n",
       "- Ellipsoid: GRS 1980\n",
       "- Prime Meridian: Greenwich"
      ]
     },
     "execution_count": 3,
     "metadata": {},
     "output_type": "execute_result"
    }
   ],
   "source": [
    "data.crs"
   ]
  },
  {
   "cell_type": "code",
   "execution_count": 4,
   "id": "24ccd2e6-54cb-4e8e-950b-036adcb90520",
   "metadata": {},
   "outputs": [
    {
     "data": {
      "text/plain": [
       "Index(['IMG_ID', 'ID', 'BT_DEU', 'BT_ENG', 'BT_BOT', 'BT_GEN', 'AKL', 'SOURCE',\n",
       "       'l0', 'l1', 'l2', 'l3', 'YEAR', 'SPLIT', 'geometry'],\n",
       "      dtype='object')"
      ]
     },
     "execution_count": 4,
     "metadata": {},
     "output_type": "execute_result"
    }
   ],
   "source": [
    "data.columns"
   ]
  },
  {
   "cell_type": "markdown",
   "id": "db707b9b-921f-46a4-811d-1e16fd49009e",
   "metadata": {},
   "source": [
    "### Using folium to visualize"
   ]
  },
  {
   "cell_type": "code",
   "execution_count": null,
   "id": "dfcbf0d4-8817-405a-b2d8-eace5b3b5dad",
   "metadata": {},
   "outputs": [],
   "source": [
    "import geopandas as gpd\n",
    "import folium\n",
    "from IPython.display import display\n",
    "# 将坐标系转换为 WGS84 (EPSG:4326)，适用于 Folium\n",
    "data = data.to_crs(epsg=4326)\n",
    "# 获取中心点用于地图初始化\n",
    "centroid = data.geometry.union_all().centroid\n",
    "center_coords = [centroid.y, centroid.x]\n",
    "# 创建地图\n",
    "m = folium.Map(location=center_coords, zoom_start=14)"
   ]
  },
  {
   "cell_type": "code",
   "execution_count": null,
   "id": "4e31c565-36f5-4732-af55-1dd419b8dcb1",
   "metadata": {},
   "outputs": [],
   "source": [
    "# 仅显示特定年份的数据，例如 2018 年\n",
    "filtered_data = data[data[\"YEAR\"] == \"2018\"]\n",
    "\n",
    "# 将筛选后的数据转换为 GeoJson\n",
    "geojson_filtered = folium.GeoJson(\n",
    "    filtered_data,\n",
    "    name=\"Filtered Polygons\",\n",
    "    style_function=lambda feature: {\n",
    "        \"fillColor\": \"orange\",\n",
    "        \"color\": \"black\",\n",
    "        \"weight\": 1,\n",
    "        \"fillOpacity\": 0.6,\n",
    "    },\n",
    "    tooltip=folium.GeoJsonTooltip(\n",
    "        fields=[\"ID\", \"BT_ENG\", \"YEAR\"],\n",
    "        aliases=[\"ID\", \"Species\", \"Year\"],\n",
    "        localize=True,\n",
    "    ),\n",
    ")\n",
    "geojson_filtered.add_to(m)"
   ]
  }
 ],
 "metadata": {
  "kernelspec": {
   "display_name": "Python 3 (ipykernel)",
   "language": "python",
   "name": "python3"
  },
  "language_info": {
   "codemirror_mode": {
    "name": "ipython",
    "version": 3
   },
   "file_extension": ".py",
   "mimetype": "text/x-python",
   "name": "python",
   "nbconvert_exporter": "python",
   "pygments_lexer": "ipython3",
   "version": "3.12.5"
  }
 },
 "nbformat": 4,
 "nbformat_minor": 5
}
